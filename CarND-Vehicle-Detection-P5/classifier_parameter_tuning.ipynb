{
 "cells": [
  {
   "cell_type": "markdown",
   "metadata": {},
   "source": [
    "# Hog"
   ]
  },
  {
   "cell_type": "code",
   "execution_count": 1,
   "metadata": {
    "collapsed": true
   },
   "outputs": [],
   "source": [
    "from skimage.feature import hog\n",
    "import numpy as np\n",
    "import os\n",
    "import matplotlib.pyplot as plt\n",
    "import matplotlib.image as Image\n",
    "import cv2\n",
    "from ipywidgets import interact, interactive, fixed, interact_manual\n",
    "import ipywidgets as widgets\n",
    "%matplotlib inline"
   ]
  },
  {
   "cell_type": "code",
   "execution_count": 2,
   "metadata": {
    "collapsed": true
   },
   "outputs": [],
   "source": [
    "vehical = 'data/vehicles/KITTI_extracted/'\n",
    "non_vehical = 'data/non-vehicles/Extras/'"
   ]
  },
  {
   "cell_type": "code",
   "execution_count": 3,
   "metadata": {
    "collapsed": true
   },
   "outputs": [],
   "source": [
    "# 1: vehical 0: non_vehical\n",
    "dict_label = {}\n",
    "for name in os.listdir(vehical):\n",
    "    file = os.path.join(vehical, name)\n",
    "    dict_label[file] = 1\n",
    "\n",
    "for name in os.listdir(non_vehical):\n",
    "    file = os.path.join(non_vehical, name)\n",
    "    dict_label[file] = 0"
   ]
  },
  {
   "cell_type": "markdown",
   "metadata": {},
   "source": [
    "# sample a vehical"
   ]
  },
  {
   "cell_type": "code",
   "execution_count": 6,
   "metadata": {},
   "outputs": [
    {
     "data": {
      "image/png": "[encoded data removed]",
      "text/plain": [
       "<matplotlib.figure.Figure at 0x7f1979966550>"
      ]
     },
     "metadata": {},
     "output_type": "display_data"
    }
   ],
   "source": [
    "img_name = list(dict_label.keys())[np.random.randint(len(dict_label))]\n",
    "img = cv2.imread(img_name)\n",
    "img = cv2.cvtColor(img, cv2.COLOR_BGR2RGB)\n",
    "plt.imshow(img)\n",
    "plt.show()"
   ]
  },
  {
   "cell_type": "markdown",
   "metadata": {},
   "source": [
    "# Different color space and parameters"
   ]
  },
  {
   "cell_type": "code",
   "execution_count": 7,
   "metadata": {
    "collapsed": true
   },
   "outputs": [],
   "source": [
    "# convert color space\n",
    "HSV = cv2.cvtColor(img, cv2.COLOR_RGB2HSV)\n",
    "LUV = cv2.cvtColor(img, cv2.COLOR_RGB2LUV)\n",
    "HLS = cv2.cvtColor(img, cv2.COLOR_RGB2HLS)\n",
    "YUV = cv2.cvtColor(img, cv2.COLOR_RGB2YUV)\n",
    "YCrCb = cv2.cvtColor(img, cv2.COLOR_RGB2YCrCb)"
   ]
  },
  {
   "cell_type": "code",
   "execution_count": 8,
   "metadata": {},
   "outputs": [
    {
     "data": {
      "application/vnd.jupyter.widget-view+json": {
       "model_id": "9e8bd38e65b3403996926e07825f85cb"
      }
     },
     "metadata": {},
     "output_type": "display_data"
    }
   ],
   "source": [
    "@interact(img_c = ['RGB', 'HSV', 'HLS', 'YUV', 'YCrCb','LUV'], orientations=(9,36,2), pix_per_cell=(2,30,1), cell_per_block=(2,10,1))\n",
    "def hog_show(img_c = \"RGB\", orientations=9, pix_per_cell=8, cell_per_block=2):\n",
    "    \n",
    "    def hog_image(img):\n",
    "        features, hog_image = hog(img, orientations=orientations,\n",
    "                          pixels_per_cell=(pix_per_cell, pix_per_cell), \n",
    "                          cells_per_block=(cell_per_block, cell_per_block), \n",
    "                          visualise=True, feature_vector=False,\n",
    "                          block_norm=\"L2-Hys\")\n",
    "        return hog_image\n",
    "    \n",
    "    img_temp = None\n",
    "    if img_c == \"RGB\":\n",
    "        img_temp = img\n",
    "    elif img_c == \"HSV\":\n",
    "        img_temp = HSV\n",
    "    elif img_c == \"HLS\":\n",
    "        img_temp = HLS\n",
    "    elif img_c == \"YUV\":\n",
    "        img_temp = YUV\n",
    "    elif img_c == \"LUV\":\n",
    "        img_temp = LUV\n",
    "    elif img_c == \"YCrCb\":\n",
    "        img_temp = YCrCb\n",
    "    \n",
    "    f, ax = plt.subplots(2, 3 ,figsize=(12,8))\n",
    "    for c in range(3):\n",
    "        ax[0,c].imshow(img_temp[:, :, c], cmap=gray')\n",
    "        ax[0,c].set_title(img_c[c])\n",
    "        ax[1,c].imshow(hog_image(img_temp[:, :, c]), cmap='gray')\n",
    "    plt.show()"
   ]
  },
  {
   "cell_type": "markdown",
   "metadata": {
    "collapsed": true
   },
   "source": [
    "# extract feature"
   ]
  },
  {
   "cell_type": "code",
   "execution_count": 20,
   "metadata": {
    "collapsed": true
   },
   "outputs": [],
   "source": [
    "def hog_extract(img, img_c = \"YUV\", orientations=9, pix_per_cell=8, cell_per_block=2， ravel=False):\n",
    "    \n",
    "    def hog_img(img_):\n",
    "        features = hog(img_, orientations=orientations,\n",
    "                      pixels_per_cell=(pix_per_cell, pix_per_cell), \n",
    "                      cells_per_block=(cell_per_block, cell_per_block), \n",
    "                      visualise=False, feature_vector=ravel,\n",
    "                      block_norm=\"L2-Hys\")\n",
    "        return features\n",
    "    \n",
    "    img_temp = None\n",
    "    if img_c == \"RGB\":\n",
    "        img_temp = img\n",
    "    elif img_c == \"HSV\":\n",
    "        img_temp = cv2.cvtColor(img, cv2.COLOR_RGB2HSV)\n",
    "    elif img_c == \"HLS\":\n",
    "        img_temp = cv2.cvtColor(img, cv2.COLOR_RGB2HLS)\n",
    "    elif img_c == \"YUV\":\n",
    "        img_temp = cv2.cvtColor(img, cv2.COLOR_RGB2YUV)\n",
    "    elif img_c == \"LUV\":\n",
    "        img_temp = cv2.cvtColor(img, cv2.COLOR_RGB2LUV)\n",
    "    elif img_c == \"YCrCb\":\n",
    "        img_temp = cv2.cvtColor(img, cv2.COLOR_RGB2YCrCb)\n",
    "    \n",
    "    res = []\n",
    "    for i in range(3):\n",
    "        res.append(hog_img(img_temp[:, :, i]))\n",
    "    \n",
    "    return np.concatenate(res)"
   ]
  },
  {
   "cell_type": "code",
   "execution_count": 59,
   "metadata": {
    "collapsed": true
   },
   "outputs": [],
   "source": [
    "def color_extract(img, nbins=32):\n",
    "    c1 = np.histogram(img[:, :, 0], bins=nbins)\n",
    "    c2 = np.histogram(img[:, :, 1], bins=nbins)\n",
    "    c3 = np.histogram(img[:, :, 2], bins=nbins)\n",
    "    \n",
    "    return np.concatenate([c1[0], c2[0], c3[0]])"
   ]
  },
  {
   "cell_type": "code",
   "execution_count": 46,
   "metadata": {
    "collapsed": true
   },
   "outputs": [],
   "source": [
    "def bin_spatial(img, size=(32,32)):\n",
    "    c1 = cv2.resize(img[:, :, 0], size).ravel()\n",
    "    c2 = cv2.resize(img[:, :, 1], size).ravel()\n",
    "    c3 = cv2.resize(img[:, :, 2], size).ravel()\n",
    "    return np.hstack([c1, c2, c3])"
   ]
  },
  {
   "cell_type": "code",
   "execution_count": 47,
   "metadata": {
    "collapsed": true
   },
   "outputs": [],
   "source": [
    "def extract_data(f, dict_label):\n",
    "    X = []\n",
    "    y = []\n",
    "    for file in dict_label.keys():\n",
    "        if not 'png' in file:\n",
    "            continue\n",
    "        img = cv2.imread(file)\n",
    "        img = cv2.cvtColor(img, cv2.COLOR_BGR2RGB)\n",
    "        X.append(f(img))\n",
    "        y.append(dict_label[file])\n",
    "    X = np.stack(X)\n",
    "    y = np.array(y)\n",
    "    return (X, y)"
   ]
  },
  {
   "cell_type": "markdown",
   "metadata": {},
   "source": [
    "# train a classifier"
   ]
  },
  {
   "cell_type": "code",
   "execution_count": null,
   "metadata": {
    "collapsed": true
   },
   "outputs": [],
   "source": [
    "'''\n",
    "base score:\n",
    "- hog: 0.89\n",
    "- color: 0.97\n",
    "- bin_spatial: 0.94\n",
    "'''"
   ]
  },
  {
   "cell_type": "code",
   "execution_count": 40,
   "metadata": {
    "collapsed": true
   },
   "outputs": [],
   "source": [
    "from sklearn.tree import DecisionTreeClassifier"
   ]
  },
  {
   "cell_type": "code",
   "execution_count": 66,
   "metadata": {
    "collapsed": true
   },
   "outputs": [],
   "source": [
    "X,y = extract_data(bin_spatial, dict_label)"
   ]
  },
  {
   "cell_type": "code",
   "execution_count": 67,
   "metadata": {},
   "outputs": [
    {
     "data": {
      "text/plain": [
       "DecisionTreeClassifier(class_weight=None, criterion='gini', max_depth=None,\n",
       "            max_features=None, max_leaf_nodes=None,\n",
       "            min_impurity_decrease=0.0, min_impurity_split=None,\n",
       "            min_samples_leaf=1, min_samples_split=2,\n",
       "            min_weight_fraction_leaf=0.0, presort=False, random_state=None,\n",
       "            splitter='best')"
      ]
     },
     "execution_count": 67,
     "metadata": {},
     "output_type": "execute_result"
    }
   ],
   "source": [
    "clf = DecisionTreeClassifier()\n",
    "clf.fit(X[:10**4], y[:10**4])"
   ]
  },
  {
   "cell_type": "code",
   "execution_count": 68,
   "metadata": {
    "collapsed": true
   },
   "outputs": [],
   "source": [
    "y_p = clf.predict(X[10**4:])\n",
    "y_true = y[10**4:]"
   ]
  },
  {
   "cell_type": "code",
   "execution_count": 69,
   "metadata": {},
   "outputs": [
    {
     "data": {
      "text/plain": [
       "0.94294003868471954"
      ]
     },
     "execution_count": 69,
     "metadata": {},
     "output_type": "execute_result"
    }
   ],
   "source": [
    "np.mean(y_p==y_true)"
   ]
  },
  {
   "cell_type": "code",
   "execution_count": null,
   "metadata": {
    "collapsed": true
   },
   "outputs": [],
   "source": []
  }
 ],
 "metadata": {
  "kernelspec": {
   "display_name": "Python [conda env:carnd-term1]",
   "language": "python",
   "name": "conda-env-carnd-term1-py"
  },
  "language_info": {
   "codemirror_mode": {
    "name": "ipython",
    "version": 3
   },
   "file_extension": ".py",
   "mimetype": "text/x-python",
   "name": "python",
   "nbconvert_exporter": "python",
   "pygments_lexer": "ipython3",
   "version": "3.5.2"
  }
 },
 "nbformat": 4,
 "nbformat_minor": 2
}
