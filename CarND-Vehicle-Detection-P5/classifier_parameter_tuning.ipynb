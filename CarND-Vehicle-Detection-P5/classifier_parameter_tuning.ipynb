{
 "cells": [
  {
   "cell_type": "markdown",
   "metadata": {},
   "source": [
    "# Hog"
   ]
  },
  {
   "cell_type": "code",
   "execution_count": 26,
   "metadata": {
    "collapsed": true
   },
   "outputs": [],
   "source": [
    "from skimage.feature import hog\n",
    "import numpy as np\n",
    "import os\n",
    "import matplotlib.pyplot as plt\n",
    "import matplotlib.image as Image\n",
    "import cv2\n",
    "from ipywidgets import interact, interactive, fixed, interact_manual\n",
    "import ipywidgets as widgets\n",
    "%matplotlib inline"
   ]
  },
  {
   "cell_type": "code",
   "execution_count": 3,
   "metadata": {
    "collapsed": true
   },
   "outputs": [],
   "source": [
    "vehical = 'data/vehicles/KITTI_extracted/'\n",
    "non_vehical = 'data/non-vehicles/Extras/'"
   ]
  },
  {
   "cell_type": "code",
   "execution_count": 5,
   "metadata": {
    "collapsed": true
   },
   "outputs": [],
   "source": [
    "# 1: vehical 0: non_vehical\n",
    "dict_label = {}\n",
    "for name in os.listdir(vehical):\n",
    "    file = os.path.join(vehical, name)\n",
    "    dict_label[file] = 1\n",
    "\n",
    "for name in os.listdir(non_vehical):\n",
    "    file = os.path.join(non_vehical, name)\n",
    "    dict_label[file] = 0"
   ]
  },
  {
   "cell_type": "markdown",
   "metadata": {},
   "source": [
    "# sample a vehical"
   ]
  },
  {
   "cell_type": "code",
   "execution_count": 24,
   "metadata": {},
   "outputs": [
    {
     "data": {
      "image/png": "[encoded data removed]",
      "text/plain": [
       "<matplotlib.figure.Figure at 0x7f8c148f69b0>"
      ]
     },
     "metadata": {},
     "output_type": "display_data"
    }
   ],
   "source": [
    "img_name = list(dict_label.keys())[np.random.randint(len(dict_label))]\n",
    "img = cv2.imread(img_name)\n",
    "img = cv2.cvtColor(img, cv2.COLOR_BGR2RGB)\n",
    "plt.imshow(img)\n",
    "plt.show()"
   ]
  },
  {
   "cell_type": "markdown",
   "metadata": {},
   "source": [
    "# Different color space and parameters"
   ]
  },
  {
   "cell_type": "code",
   "execution_count": 2,
   "metadata": {},
   "outputs": [
    {
     "ename": "NameError",
     "evalue": "name 'img' is not defined",
     "output_type": "error",
     "traceback": [
      "\u001b[0;31m---------------------------------------------------------------------------\u001b[0m",
      "\u001b[0;31mNameError\u001b[0m                                 Traceback (most recent call last)",
      "\u001b[0;32m<ipython-input-2-db0669eddf46>\u001b[0m in \u001b[0;36m<module>\u001b[0;34m()\u001b[0m\n\u001b[1;32m      3\u001b[0m \u001b[0morient\u001b[0m \u001b[0;34m=\u001b[0m \u001b[0;36m9\u001b[0m\u001b[0;34m\u001b[0m\u001b[0m\n\u001b[1;32m      4\u001b[0m \u001b[0;34m\u001b[0m\u001b[0m\n\u001b[0;32m----> 5\u001b[0;31m features, hog_image = hog(img, orientations=orient,\n\u001b[0m\u001b[1;32m      6\u001b[0m                           \u001b[0mpixels_per_cell\u001b[0m\u001b[0;34m=\u001b[0m\u001b[0;34m(\u001b[0m\u001b[0mpix_per_cell\u001b[0m\u001b[0;34m,\u001b[0m \u001b[0mpix_per_cell\u001b[0m\u001b[0;34m)\u001b[0m\u001b[0;34m,\u001b[0m\u001b[0;34m\u001b[0m\u001b[0m\n\u001b[1;32m      7\u001b[0m                           \u001b[0mcells_per_block\u001b[0m\u001b[0;34m=\u001b[0m\u001b[0;34m(\u001b[0m\u001b[0mcell_per_block\u001b[0m\u001b[0;34m,\u001b[0m \u001b[0mcell_per_block\u001b[0m\u001b[0;34m)\u001b[0m\u001b[0;34m,\u001b[0m\u001b[0;34m\u001b[0m\u001b[0m\n",
      "\u001b[0;31mNameError\u001b[0m: name 'img' is not defined"
     ]
    }
   ],
   "source": [
    "pix_per_cell = 8\n",
    "cell_per_block = 2\n",
    "orient = 9\n",
    "\n",
    "features, hog_image = hog(img, orientations=orient,\n",
    "                          pixels_per_cell=(pix_per_cell, pix_per_cell), \n",
    "                          cells_per_block=(cell_per_block, cell_per_block), \n",
    "                          visualise=True, feature_vector=False,\n",
    "                          block_norm=\"L2-Hys\")"
   ]
  },
  {
   "cell_type": "code",
   "execution_count": 31,
   "metadata": {
    "collapsed": true
   },
   "outputs": [],
   "source": [
    "# convert color space\n",
    "HSV = cv2.cvtColor(img, cv2.COLOR_RGB2HSV)\n",
    "LUV = cv2.cvtColor(img, cv2.COLOR_RGB2LUV)\n",
    "HLS = cv2.cvtColor(img, cv2.COLOR_RGB2HLS)\n",
    "YUV = cv2.cvtColor(img, cv2.COLOR_RGB2YUV)\n",
    "YCrCb = cv2.cvtColor(img, cv2.COLOR_RGB2YCrCb)"
   ]
  },
  {
   "cell_type": "code",
   "execution_count": 43,
   "metadata": {},
   "outputs": [
    {
     "data": {
      "application/vnd.jupyter.widget-view+json": {
       "model_id": "bd40437304904fce801986836402f88a"
      }
     },
     "metadata": {},
     "output_type": "display_data"
    }
   ],
   "source": [
    "@interact(img_c = ['RGB', 'HSV', 'HLS', 'YUV', 'YCrCb','LUV'], orientations=(9,36,2), pix_per_cell=(2,30,1), cell_per_block=(2,10,1))\n",
    "def hog_show(img_c = \"RGB\", orientations=9, pix_per_cell=8, cell_per_block=2):\n",
    "    \n",
    "    def hog_image(img):\n",
    "        features, hog_image = hog(img, orientations=orientations,\n",
    "                          pixels_per_cell=(pix_per_cell, pix_per_cell), \n",
    "                          cells_per_block=(cell_per_block, cell_per_block), \n",
    "                          visualise=True, feature_vector=False,\n",
    "                          block_norm=\"L2-Hys\")\n",
    "        return hog_image\n",
    "    \n",
    "    img_temp = None\n",
    "    if img_c == \"RGB\":\n",
    "        img_temp = img\n",
    "    elif img_c == \"HSV\":\n",
    "        img_temp = HSV\n",
    "    elif img_c == \"HLS\":\n",
    "        img_temp = HLS\n",
    "    elif img_c == \"YUV\":\n",
    "        img_temp = YUV\n",
    "    elif img_c == \"LUV\":\n",
    "        img_temp = LUV\n",
    "    elif img_c == \"YCrCb\":\n",
    "        img_temp = YCrCb\n",
    "    \n",
    "    f, ax = plt.subplots(2, 3 ,figsize=(12,8))\n",
    "    for c in range(3):\n",
    "        ax[0,c].imshow(img_temp[:, :, c], cmap='gray')\n",
    "        ax[0,c].set_title(img_c[c])\n",
    "        ax[1,c].imshow(hog_image(img_temp[:, :, c]), cmap='gray')\n",
    "    plt.show()"
   ]
  },
  {
   "cell_type": "code",
   "execution_count": null,
   "metadata": {
    "collapsed": true
   },
   "outputs": [],
   "source": []
  }
 ],
 "metadata": {
  "kernelspec": {
   "display_name": "Python [conda env:carnd-term1]",
   "language": "python",
   "name": "conda-env-carnd-term1-py"
  },
  "language_info": {
   "codemirror_mode": {
    "name": "ipython",
    "version": 3
   },
   "file_extension": ".py",
   "mimetype": "text/x-python",
   "name": "python",
   "nbconvert_exporter": "python",
   "pygments_lexer": "ipython3",
   "version": "3.5.2"
  }
 },
 "nbformat": 4,
 "nbformat_minor": 2
}
