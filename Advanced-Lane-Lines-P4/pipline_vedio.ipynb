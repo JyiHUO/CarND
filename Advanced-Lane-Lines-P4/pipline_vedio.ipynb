{
 "cells": [
  {
   "cell_type": "code",
   "execution_count": 1,
   "metadata": {},
   "outputs": [],
   "source": [
    "# Import everything needed to edit/save/watch video clips\n",
    "from moviepy.editor import VideoFileClip\n",
    "from IPython.display import HTML\n",
    "from all_staff import *"
   ]
  },
  {
   "cell_type": "code",
   "execution_count": 2,
   "metadata": {
    "collapsed": true
   },
   "outputs": [],
   "source": [
    "with open(obj_img_dir, 'rb') as f:\n",
    "    objpoints, imgpoints = pickle.load(f)"
   ]
  },
  {
   "cell_type": "code",
   "execution_count": 3,
   "metadata": {
    "collapsed": true
   },
   "outputs": [],
   "source": [
    "class Line(object):\n",
    "    def __init__(self, objpoints, imgpoints, persepctive_mode = False):\n",
    "        self.do_first = True\n",
    "        \n",
    "        self.left_fit = None\n",
    "        self.right_fit = None\n",
    "        \n",
    "        self.objpoints = objpoints\n",
    "        self.imgpoints = imgpoints\n",
    "        \n",
    "        self.persepctive_mode = persepctive_mode\n",
    "    \n",
    "    def pipline(self, img):\n",
    "        undist = undistort_img(img, self.objpoints, self.imgpoints)\n",
    "        binary_img = binary_color(undist, sobel_kernel=3, gray_threshold=(45,255), color_thresold=(110,255))\n",
    "        binary_img_color = np.dstack([binary_img*255, binary_img, binary_img])\n",
    "        binary_warped, Minv = warp_M(binary_img)\n",
    "        \n",
    "        if self.do_first:\n",
    "            ploty, left_fitx, right_fitx, left_fit, right_fit = slide_windows(binary_warped, nwindows=9, margin=100, minpix=50)\n",
    "            self.left_fit = left_fit\n",
    "            self.right_fit = right_fit\n",
    "            self.do_first = False\n",
    "        else:\n",
    "            ploty, left_fitx, right_fitx = acc_frame_to_frame(binary_warped, self.left_fit, self.right_fit, margin = 100)\n",
    "        \n",
    "        if not self.persepctive_mode:\n",
    "            result = img_region(binary_warped, left_fitx, right_fitx, ploty, Minv, binary_img_color)\n",
    "        else:\n",
    "            result = img_region_no_T(binary_warped, left_fitx, right_fitx, ploty)\n",
    "            \n",
    "        return result\n",
    "        "
   ]
  },
  {
   "cell_type": "code",
   "execution_count": 6,
   "metadata": {},
   "outputs": [],
   "source": [
    "l = Line(objpoints, imgpoints, False)"
   ]
  },
  {
   "cell_type": "code",
   "execution_count": 7,
   "metadata": {},
   "outputs": [
    {
     "name": "stdout",
     "output_type": "stream",
     "text": [
      "[MoviePy] >>>> Building video vedio/project_video_sub.mp4\n",
      "[MoviePy] Writing video vedio/project_video_sub.mp4\n"
     ]
    },
    {
     "name": "stderr",
     "output_type": "stream",
     "text": [
      " 99%|█████████▉| 125/126 [01:33<00:00,  1.32it/s]\n"
     ]
    },
    {
     "name": "stdout",
     "output_type": "stream",
     "text": [
      "[MoviePy] Done.\n",
      "[MoviePy] >>>> Video ready: vedio/project_video_sub.mp4 \n",
      "\n",
      "CPU times: user 1min 35s, sys: 680 ms, total: 1min 36s\n",
      "Wall time: 1min 33s\n"
     ]
    }
   ],
   "source": [
    "white_output = 'vedio/project_video_sub.mp4'\n",
    "## To speed up the testing process you may want to try your pipeline on a shorter subclip of the video\n",
    "## To do so add .subclip(start_second,end_second) to the end of the line below\n",
    "## Where start_second and end_second are integer values representing the start and end of the subclip\n",
    "## You may also uncomment the following line for a subclip of the first 5 seconds\n",
    "##clip1 = VideoFileClip(\"test_videos/solidWhiteRight.mp4\").subclip(0,5)\n",
    "clip1 = VideoFileClip(\"vedio/project_video.mp4\").subclip(0,5)\n",
    "white_clip = clip1.fl_image(l.pipline) #NOTE: this function expects color images!!\n",
    "%time white_clip.write_videofile(white_output, audio=False)"
   ]
  },
  {
   "cell_type": "code",
   "execution_count": 17,
   "metadata": {},
   "outputs": [
    {
     "data": {
      "text/html": [
       "\n",
       "<video width=\"960\" height=\"540\" controls>\n",
       "  <source src=\"vedio/project_video_gray.mp4\">\n",
       "</video>\n"
      ],
      "text/plain": [
       "<IPython.core.display.HTML object>"
      ]
     },
     "execution_count": 17,
     "metadata": {},
     "output_type": "execute_result"
    }
   ],
   "source": [
    "HTML(\"\"\"\n",
    "<video width=\"960\" height=\"540\" controls>\n",
    "  <source src=\"{0}\">\n",
    "</video>\n",
    "\"\"\".format(white_output))"
   ]
  },
  {
   "cell_type": "markdown",
   "metadata": {},
   "source": [
    "## 接下来要做"
   ]
  },
  {
   "cell_type": "markdown",
   "metadata": {},
   "source": [
    "- 换threshold算法来避免光照-黑暗的场景替换\n",
    "- smoothing，计算变化率，曲率，leftcenter\n",
    "- 前几个frame的变化率比较"
   ]
  },
  {
   "cell_type": "code",
   "execution_count": null,
   "metadata": {
    "collapsed": true
   },
   "outputs": [],
   "source": []
  }
 ],
 "metadata": {
  "kernelspec": {
   "display_name": "Python [conda env:gpu]",
   "language": "python",
   "name": "conda-env-gpu-py"
  },
  "language_info": {
   "codemirror_mode": {
    "name": "ipython",
    "version": 3
   },
   "file_extension": ".py",
   "mimetype": "text/x-python",
   "name": "python",
   "nbconvert_exporter": "python",
   "pygments_lexer": "ipython3",
   "version": "3.6.2"
  }
 },
 "nbformat": 4,
 "nbformat_minor": 2
}
