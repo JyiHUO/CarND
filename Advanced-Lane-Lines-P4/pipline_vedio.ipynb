{
 "cells": [
  {
   "cell_type": "code",
   "execution_count": 2,
   "metadata": {},
   "outputs": [],
   "source": [
    "# Import everything needed to edit/save/watch video clips\n",
    "from moviepy.editor import VideoFileClip\n",
    "from IPython.display import HTML\n",
    "from all_staff import *"
   ]
  },
  {
   "cell_type": "code",
   "execution_count": 3,
   "metadata": {
    "collapsed": true
   },
   "outputs": [],
   "source": [
    "with open(obj_img_dir, 'rb') as f:\n",
    "    objpoints, imgpoints = pickle.load(f)"
   ]
  },
  {
   "cell_type": "code",
   "execution_count": 37,
   "metadata": {
    "collapsed": true
   },
   "outputs": [],
   "source": [
    "class Line(object):\n",
    "    def __init__(self, objpoints, imgpoints):\n",
    "        self.do_first = True\n",
    "        \n",
    "        self.left_fit = None\n",
    "        self.right_fit = None\n",
    "        \n",
    "        self.objpoints = objpoints\n",
    "        self.imgpoints = imgpoints\n",
    "        \n",
    "        \n",
    "        self.left_fitx_history = []\n",
    "        self.right_fitx_history = []\n",
    "        \n",
    "        self.curvature_history = []\n",
    "        \n",
    "        self.count = 0\n",
    "        self.ploty = None\n",
    "        \n",
    "        self.binary_warp = None\n",
    "    \n",
    "    def pipline(self, img):\n",
    "        # update process\n",
    "        self.count += 1\n",
    "        \n",
    "        undist = undistort_img(img, self.objpoints, self.imgpoints)\n",
    "        # binary_img = binary_color(undist)\n",
    "        binary_img,_  = binarize(undist)\n",
    "        mask_img = mask_grad(binary_img)\n",
    "        binary_warped, Minv = warp_M(mask_img)\n",
    "        \n",
    "        if self.do_first: # Sould use slide windows in First Frame \n",
    "            ploty, left_fitx, right_fitx, left_fit, right_fit = slide_windows(binary_warped, nwindows=9, margin=50, minpix=5)\n",
    "            \n",
    "            # modify the configuration \n",
    "            self.left_fit = left_fit\n",
    "            self.right_fit = right_fit\n",
    "            self.left_fitx_history.append(left_fitx)\n",
    "            self.right_fitx_history.append(right_fitx)\n",
    "            self.ploty = ploty\n",
    "            \n",
    "        else: # reuse left_fit and so on to acc the process\n",
    "            ploty, left_fitx, right_fitx, left_fit, right_fit = acc_frame_to_frame(binary_warped, self.left_fit, self.right_fit, margin = 50)\n",
    "            \n",
    "            # modify the configuration\n",
    "            self.left_fit = left_fit\n",
    "            self.right_fit = right_fit\n",
    "            self.left_fitx_history.append(left_fitx)\n",
    "            self.right_fitx_history.append(right_fitx)\n",
    "        \n",
    "        # cal the curvature and put them into the image\n",
    "        curvature = cal_curvature(ploty, left_fitx, right_fitx)\n",
    "        \n",
    "        # low 0.5 is a big curve\n",
    "        if min(curvature)/1000 < 0.5 and not self.left_fitx_history == []:\n",
    "            self.left_fitx_history.pop()\n",
    "            self.right_fitx_history.pop()\n",
    "            self.curvature_history.pop()\n",
    "            left_fitx = self.left_fitx_history[-1]\n",
    "            right_fitx = self.right_fitx_history[-1]\n",
    "            curvature = self.curvature_history[-1]\n",
    "        \n",
    "        center_offset = cal_center_offset(left_fitx, right_fitx)\n",
    "        c_s = \"Curvature: left:{:.2f}km  right:{:.2f}km\".format(curvature[0]/1000, curvature[1]/1000)\n",
    "        c_o = \"Center offset: {:.2f}m\".format(center_offset)\n",
    "        \n",
    "        result = img_region(binary_warped, left_fitx, right_fitx, ploty, Minv, undist)\n",
    "        # result_warp = img_region_no_T(binary_warped, left_fitx, right_fitx, ploty)\n",
    "        \n",
    "        # concat many image\n",
    "#         result = cv2.resize(result, (640, 320))\n",
    "#         binary_img = dstack_img(cv2.resize(binary_img, (640, 320)), b=True)\n",
    "#         mask_img = dstack_img(cv2.resize(mask_img, (640, 320)), r=True)\n",
    "#         result_warp = cv2.resize(result_warp, (640, 320))\n",
    "\n",
    "#         temp1 = np.concatenate([result, result_warp], axis=0)\n",
    "#         temp2 = np.concatenate([binary_img, mask_img], axis=0)\n",
    "#         temp = np.concatenate([temp1, temp2], axis=1)\n",
    "        \n",
    "        cv2.putText(result, c_s, (22,22), cv2.FONT_HERSHEY_SIMPLEX, 1, (255,0,0),2)\n",
    "        cv2.putText(result, c_o, (22,60), cv2.FONT_HERSHEY_SIMPLEX, 1, (255,0,0), 2)\n",
    "        \n",
    "        self.curvature_history.append(curvature)\n",
    "            \n",
    "        return result\n",
    "        "
   ]
  },
  {
   "cell_type": "code",
   "execution_count": 38,
   "metadata": {
    "collapsed": true
   },
   "outputs": [],
   "source": [
    "l = Line(objpoints, imgpoints)"
   ]
  },
  {
   "cell_type": "code",
   "execution_count": 41,
   "metadata": {},
   "outputs": [
    {
     "name": "stdout",
     "output_type": "stream",
     "text": [
      "[MoviePy] >>>> Building video video/project_video_res_harder.mp4\n",
      "[MoviePy] Writing video video/project_video_res_harder.mp4\n"
     ]
    },
    {
     "name": "stderr",
     "output_type": "stream",
     "text": [
      "100%|██████████| 150/150 [02:09<00:00,  1.14it/s]\n"
     ]
    },
    {
     "name": "stdout",
     "output_type": "stream",
     "text": [
      "[MoviePy] Done.\n",
      "[MoviePy] >>>> Video ready: video/project_video_res_harder.mp4 \n",
      "\n",
      "CPU times: user 2min 15s, sys: 5.5 s, total: 2min 20s\n",
      "Wall time: 2min 11s\n"
     ]
    }
   ],
   "source": [
    "white_output = 'video/project_video_res_harder.mp4'\n",
    "## To speed up the testing process you may want to try your pipeline on a shorter subclip of the video\n",
    "## To do so add .subclip(start_second,end_second) to the end of the line below\n",
    "## Where start_second and end_second are integer values representing the start and end of the subclip\n",
    "## You may also uncomment the following line for a subclip of the first 5 seconds\n",
    "##clip1 = VideoFileClip(\"test_videos/solidWhiteRight.mp4\").subclip(0,5)\n",
    "clip1 = VideoFileClip(\"video/challenge_video.mp4\").subclip(0,5)\n",
    "white_clip = clip1.fl_image(l.pipline) #NOTE: this function expects color images!!\n",
    "%time white_clip.write_videofile(white_output, audio=False)"
   ]
  },
  {
   "cell_type": "code",
   "execution_count": 12,
   "metadata": {},
   "outputs": [
    {
     "data": {
      "text/html": [
       "\n",
       "<video width=\"960\" height=\"540\" controls>\n",
       "  <source src=\"video/project_video_res.mp4\">\n",
       "</video>\n"
      ],
      "text/plain": [
       "<IPython.core.display.HTML object>"
      ]
     },
     "execution_count": 12,
     "metadata": {},
     "output_type": "execute_result"
    }
   ],
   "source": [
    "HTML(\"\"\"\n",
    "<video width=\"960\" height=\"540\" controls>\n",
    "  <source src=\"{0}\">\n",
    "</video>\n",
    "\"\"\".format(white_output))"
   ]
  },
  {
   "cell_type": "markdown",
   "metadata": {},
   "source": [
    "## 接下来要做"
   ]
  },
  {
   "cell_type": "markdown",
   "metadata": {},
   "source": [
    "- 换threshold算法来避免光照-黑暗的场景替换\n",
    "- smoothing，计算变化率，曲率，leftcenter\n",
    "- 前几个frame的变化率比较"
   ]
  },
  {
   "cell_type": "code",
   "execution_count": null,
   "metadata": {
    "collapsed": true
   },
   "outputs": [],
   "source": []
  }
 ],
 "metadata": {
  "kernelspec": {
   "display_name": "Python [conda env:carnd-term1]",
   "language": "python",
   "name": "conda-env-carnd-term1-py"
  },
  "language_info": {
   "codemirror_mode": {
    "name": "ipython",
    "version": 3
   },
   "file_extension": ".py",
   "mimetype": "text/x-python",
   "name": "python",
   "nbconvert_exporter": "python",
   "pygments_lexer": "ipython3",
   "version": "3.5.2"
  }
 },
 "nbformat": 4,
 "nbformat_minor": 2
}
